{
    "cells": [
        {
            "cell_type": "markdown",
            "metadata": {},
            "source": [
                "# Jike-crawl\n",
                "\n",
                "## 配置运行环境\n",
                "\n",
                "请先参照 `README.md` 准备好运行环境。\n",
                "\n",
                "- Python 3\n",
                "- json\n",
                "- requests\n",
                "\n",
                "也可以直接运行下面代码块。"
            ]
        },
        {
            "cell_type": "code",
            "execution_count": null,
            "metadata": {},
            "outputs": [],
            "source": [
                "! pip install -r ../requirements.txt"
            ]
        },
        {
            "attachments": {},
            "cell_type": "markdown",
            "metadata": {
                "slideshow": {
                    "slide_type": "fragment"
                }
            },
            "source": [
                "## 准备工作\n",
                "\n",
                "1. 进入开发者模式。在 [即刻网页版](https://web.okjike.com/) 中登录自己的即刻账号，并进入个人主页。按 `F12` 打开开发者工具。切换到 `网络(Network)`，过滤 `Fetch/XHR`，刷新页面，此时下方会出现请求列表，罗列了请求的名称、状态等信息。\n",
                "\n",
                "2. 获取cookie。在请求列表中，任选一个名称为 `graphql` 的请求，单击 `标头(Headers)`，找到 `cookie` 字段并复制全文，粘贴到 `config/cookies.txt`。\n",
                "\n",
                "    ![devtools](../img/devtools_cn.png)\n",
                "\n",
                "3. 获取id。在请求列表中，任选一个名称为 `profile?username=...` 的请求，单击 `响应(Response)`，复制 `username` 字段:后的内容，粘贴到下面代码块的 `user_id` 并运行代码块。"
            ]
        },
        {
            "cell_type": "code",
            "execution_count": null,
            "metadata": {},
            "outputs": [],
            "source": [
                "# -*- coding:utf8 -*-\n",
                "\n",
                "from crawl import *\n",
                "from data_analysis import *\n",
                "from delete_posts import *\n",
                "from like_posts import *\n",
                "\n",
                "# Replace with your own Jike user id.\n",
                "user_id = \"D5560B5D-7448-4E1A-B43A-EC2D2C9AB7EC\"\n",
                "\n",
                "#CURR_TIME = datetime.now(GMT8())  # current time\n",
                "done(\"user_id updated as\", user_id, \"at\", CURR_TIME)\n"
            ]
        },
        {
            "attachments": {},
            "cell_type": "markdown",
            "metadata": {},
            "source": [
                "## 抓取动态和消息\n",
                "\n",
                "### 配置\n",
                "\n",
                "下面的代码块罗列了可供配置的变量。**修改之后切记重新运行此代码块！**\n",
                "\n",
                "- `noti_path` 是存放抓取的消息的文件，默认在 `data/notifications.json`；\n",
                "- `post_path` 是存放抓取的动态的文件，默认在 `data/posts.json`；\n",
                "- `b_save_pics` 设置是否保存动态中的图片，默认不保存；\n",
                "- 您可以通过修改 `start_time` 和 `end_time` 来保存特定时间段内发布的动态，默认保存全部；\n",
                "  您可以像下面所示构建 `datetime` 对象：\n",
                "\n",
                "    ```python\n",
                "    # class datetime.datetime(year, month, day, hour=0, minute=0, second=0, microsecond=0, tzinfo=None, *, fold=0)\n",
                "    datetime(2021, 1, 1, tzinfo=GMT8()) #  2021/01/01 00:00:00.000 (+08:00)\n",
                "    datetime(2021, 1, 1, 12, 13, 14, 15, tzinfo=GMT8()) # 2021/01/01 12:13:14.000015 (+08:00)\n",
                "    ```\n",
                "\n",
                "    或者使用 `CURR_TIME` 或/和 `BASE_TIME` 加上/减去 `timedelta`，下面展示了拉取 **30 天之前**的动态的设置。\n",
                "\n",
                "    ```python\n",
                "    # class datetime.timedelta(days=0, seconds=0, microseconds=0, milliseconds=0, minutes=0, hours=0, weeks=0)\n",
                "    time_delta = timedelta(days=30)\n",
                "    end_time = CURR_TIME - time_delta\n",
                "    ```\n",
                "\n",
                "- `noti_record_limit` 和 `post_record_limit` 分别是抓取的消息和动态的数量限制；\n",
                "  下面展示了爬取 2022/01/01 至 2022/06/26 的 **10 个最近的**动态的配置\n",
                "\n",
                "    ```python\n",
                "        post_start_time = datetime(2022, 1, 1, tzinfo=GMT8())\n",
                "        post_end_time = datetime(2022, 6, 26, tzinfo=GMT8())\n",
                "        post_record_limit = 10\n",
                "        crawl_posts(user_id, post_path, \"a\", post_record_limit, post_start_time, post_end_time)\n",
                "    ```"
            ]
        },
        {
            "cell_type": "code",
            "execution_count": null,
            "metadata": {},
            "outputs": [],
            "source": [
                "noti_path = os.path.join(DIR_PATH, \"data/notifications.json\")\n",
                "noti_start_time = BASE_TIME  # datetime\n",
                "noti_end_time = CURR_TIME   # datetime\n",
                "noti_record_limit = None    # int or None\n",
                "\n",
                "post_path = os.path.join(DIR_PATH, \"data/posts.json\")\n",
                "post_start_time = BASE_TIME  # datetime\n",
                "post_end_time = CURR_TIME   # datetime\n",
                "post_record_limit = None    # int or None\n",
                "\n",
                "b_save_pics = False  # Bool\n",
                "update = True  # Bool\n",
                "\n",
                "\n",
                "# RERUN THIS CODE BLOCK TO UPDATE THE CONFIGURATION\n",
                "#CURR_TIME = datetime.now(GMT8())  # current time\n",
                "done(\"configurations updated at\", CURR_TIME)"
            ]
        },
        {
            "attachments": {},
            "cell_type": "markdown",
            "metadata": {},
            "source": [
                "### 抓取消息"
            ]
        },
        {
            "cell_type": "code",
            "execution_count": null,
            "metadata": {},
            "outputs": [],
            "source": [
                "crawl_notifications(noti_path, \"a\", b_save_pics, noti_record_limit, noti_start_time, noti_end_time, update)"
            ]
        },
        {
            "attachments": {},
            "cell_type": "markdown",
            "metadata": {},
            "source": [
                "### 抓取动态"
            ]
        },
        {
            "attachments": {},
            "cell_type": "markdown",
            "metadata": {},
            "source": [
                "#### 重排\n",
                "若先前动态中存在置顶未正确插入，需要运行下面代码块重新排列。之后再抓取动态将会从以存储的最近动态开始。"
            ]
        },
        {
            "cell_type": "code",
            "execution_count": null,
            "metadata": {},
            "outputs": [],
            "source": [
                "sort_nodes(post_path)"
            ]
        },
        {
            "attachments": {},
            "cell_type": "markdown",
            "metadata": {},
            "source": [
                "#### 抓取动态\n",
                "\n",
                "如需重新抓取请指定空文件。"
            ]
        },
        {
            "cell_type": "code",
            "execution_count": null,
            "metadata": {},
            "outputs": [],
            "source": [
                "crawl_posts(user_id, post_path, \"a\", b_save_pics, post_record_limit, post_start_time, post_end_time, update)"
            ]
        },
        {
            "attachments": {},
            "cell_type": "markdown",
            "metadata": {},
            "source": [
                "## 数据分析\n",
                "\n",
                "必须先保存数据，方可进行数据分析。\n",
                "\n",
                "运行下面代码块分析获得的数据。\n",
                "\n",
                "### 分析动态"
            ]
        },
        {
            "cell_type": "code",
            "execution_count": null,
            "metadata": {},
            "outputs": [],
            "source": [
                "summarize_posts(post_path)"
            ]
        },
        {
            "attachments": {},
            "cell_type": "markdown",
            "metadata": {},
            "source": [
                "### 分析消息"
            ]
        },
        {
            "cell_type": "code",
            "execution_count": null,
            "metadata": {},
            "outputs": [],
            "source": [
                "summarize_notifications(noti_path)"
            ]
        },
        {
            "attachments": {},
            "cell_type": "markdown",
            "metadata": {},
            "source": [
                "## 删除动态\n",
                "\n",
                "必须先保存动态数据，方可删除动态。\n",
                "\n",
                "此操作仅可根据本地保存的数据进行删除。即在新发动态后，如果没有重新拉取，则无法删除。\n",
                "\n",
                "1. 若想删除所有动态，请跳过此步。若想修改动态删除的时间范围，请将下面代码块中的 `start_time`（开始时间）和 `end_time`（结束时间）修改为所需的日期(也可详细设定时间）。`limit` 是数量限制，注意动态从后往前删，最新发布的先删。先不运行代码块。\n",
                "\n",
                "2. 确认上面配置中的 `post_path` 是储存在本地的 `posts.json` 的路径并且该代码块已经运行。\n",
                "\n",
                "3. 打开 `src/delete_posts.py` 取消 `clear()` 函数中 **DANGER ZONE** 中的这行注释（按 `Ctrl` + `/` 或删掉这行前面的 `# `）。\n",
                "\n",
                "    ```python\n",
                "    ################# DANGER ZONE ##################\n",
                "    ################################################\n",
                "    # uncomment next line to remove all your posts #\n",
                "    # remove(id) # remove posts by id              #\n",
                "    ################################################\n",
                "    ```\n",
                "\n",
                "4. 运行下面代码块。\n",
                "5. 若出现\n",
                "   ```shell\n",
                "   Connection error (MaxRetryError(\"HTTPSConnectionPool(...): Max retries exceeded with url: /api/graphql (Caused by ConnectTimeoutError(<urllib3.connection.HTTPSConnection object at ...>, 'Connection to ... timed out. (connect timeout=None)'))\"))\n",
                "   ```\n",
                "   重新运行即可。"
            ]
        },
        {
            "cell_type": "code",
            "execution_count": null,
            "metadata": {},
            "outputs": [],
            "source": [
                "# operate posts created during 2021/12/01 and 2021/12/31\n",
                "# start_time = datetime(2021, 1, 1, tzinfo=GMT8())\n",
                "# end_time = datetime(2021, 12, 31, tzinfo=GMT8())\n",
                "\n",
                "# operate posts created before 30 days ago\n",
                "# class datetime.timedelta(days=0, seconds=0, microseconds=0, milliseconds=0, minutes=0, hours=0, weeks=0)\n",
                "# time_delta = timedelta(days=30)\n",
                "# end_time = CURR_TIME - time_delta\n",
                "\n",
                "# operate all posts \n",
                "start_time = BASE_TIME  # datetime\n",
                "end_time = CURR_TIME    # datetime\n",
                "limit = None            # int or None\n",
                "\n",
                "clear(post_path, start_time, end_time, limit)"
            ]
        },
        {
            "attachments": {},
            "cell_type": "markdown",
            "metadata": {},
            "source": [
                "## 自动点赞\n",
                "\n",
                "确定自动点赞对象的方法有两种，一种是在 `config/user_name_list` 中输入用户的昵称，然后运行 `update_user_id_list()`，亦即以下代码块第 8 行，此函数会自动搜寻对应的真实用户名 `username`，然后写入 `config/user_id_list.txt`。\n",
                "\n",
                "另一种是抓取关注列表然后手动选择。详见 [用户关系](#用户关系) 一章。\n",
                "\n",
                "总之将对象用户 `username` 列表放进 `config/user_id_list.txt` 后就可以开始操作，下面代码块中提供了一些使用方法，`like` 和 `unlike` 相似，以 `like` 为例，他有两种调用方式。\n",
                "\n",
                "一种逻辑是进入该用户主页然后从上到下（包括置顶）点赞，这样的调用方式如第 10 行所示，后面三个有默认参数，可以不用写。\n",
                "\n",
                "另一种逻辑是在你的动态页面接收你还没看过的动态，然后筛选出在用户列表中的发表者的文章点赞，`miss_feed_only` 必须为 `True`，如第 13 行所示。"
            ]
        },
        {
            "cell_type": "code",
            "execution_count": null,
            "metadata": {},
            "outputs": [],
            "source": [
                "start_time = CURR_TIME - timedelta(days=1)  # datetime\n",
                "end_time = CURR_TIME    # datetime\n",
                "record_limit = 5        # int or None\n",
                "miss_feed_only = True\n",
                "\n",
                "# user_id_list = read_list_file(os.path.join(\n",
                "#     DIR_PATH, \"config/user_id_list.txt\"))\n",
                "user_id_list = update_user_id_list()\n",
                "\n",
                "like(user_id_list, record_limit=None, start_time=start_time, end_time=end_time) # only operate posted in 30 days\n",
                "# unlike(user_id_list)\n",
                "\n",
                "# like(user_id_list, miss_feed_only, record_limit, start_time, end_time)\n"
            ]
        },
        {
            "attachments": {},
            "cell_type": "markdown",
            "metadata": {},
            "source": [
                "## 用户关系\n",
                "\n",
                "### 抓取关注列表和被关注列表\n",
                "\n",
                "结果保存至 `data/relation`"
            ]
        },
        {
            "cell_type": "code",
            "execution_count": null,
            "metadata": {},
            "outputs": [],
            "source": [
                "crawl_following(user_id)\n",
                "crawl_follower(user_id)"
            ]
        },
        {
            "attachments": {},
            "cell_type": "markdown",
            "metadata": {},
            "source": [
                "### 交集和差集\n",
                "\n",
                "结果保存至 `data/relation`"
            ]
        },
        {
            "cell_type": "code",
            "execution_count": null,
            "metadata": {},
            "outputs": [],
            "source": [
                "get_mutual_following_list()"
            ]
        },
        {
            "attachments": {},
            "cell_type": "markdown",
            "metadata": {},
            "source": [
                "### 读取关注列表到 `config/`\n",
                "\n",
                "在获取关注列表之后执行下面的代码块，将会读取关注列表到 `config/user_list_temp.txt`，在那可以删除不需要的用户。"
            ]
        },
        {
            "cell_type": "code",
            "execution_count": null,
            "metadata": {},
            "outputs": [],
            "source": [
                "following_list = read_multi_json_file(os.path.join(DIR_PATH, \"data/relation/following.json\"))\n",
                "save_list([user[\"screenName\"] + \"       \" + user[\"username\"]\n",
                "                for user in following_list], os.path.join(DIR_PATH, \"config/user_list_temp.txt\"))"
            ]
        },
        {
            "attachments": {},
            "cell_type": "markdown",
            "metadata": {},
            "source": [
                "之后执行下面代码块将选中的用户列表读取到 `config/user_id_list.txt`，之后便可执行诸如 [自动点赞](#自动点赞) 等操作。"
            ]
        },
        {
            "cell_type": "code",
            "execution_count": null,
            "metadata": {},
            "outputs": [],
            "source": [
                "load_following_list()"
            ]
        },
        {
            "attachments": {},
            "cell_type": "markdown",
            "metadata": {},
            "source": [
                "##  其他\n",
                "\n",
                "### 清除 log"
            ]
        },
        {
            "cell_type": "code",
            "execution_count": null,
            "metadata": {},
            "outputs": [],
            "source": [
                "clear_log()"
            ]
        },
        {
            "attachments": {},
            "cell_type": "markdown",
            "metadata": {},
            "source": [
                "### 重新装载 cookies"
            ]
        },
        {
            "cell_type": "code",
            "execution_count": null,
            "metadata": {},
            "outputs": [],
            "source": [
                "refresh_cookies()"
            ]
        },
        {
            "attachments": {},
            "cell_type": "markdown",
            "metadata": {},
            "source": [
                "### 更新 `CURR_TIME`"
            ]
        },
        {
            "cell_type": "code",
            "execution_count": null,
            "metadata": {},
            "outputs": [],
            "source": [
                "#CURR_TIME = datetime.now(GMT8())"
            ]
        }
    ],
    "metadata": {
        "kernelspec": {
            "display_name": "base",
            "language": "python",
            "name": "python3"
        },
        "language_info": {
            "codemirror_mode": {
                "name": "ipython",
                "version": 3
            },
            "file_extension": ".py",
            "mimetype": "text/x-python",
            "name": "python",
            "nbconvert_exporter": "python",
            "pygments_lexer": "ipython3",
            "version": "3.8.5"
        },
        "orig_nbformat": 4,
        "vscode": {
            "interpreter": {
                "hash": "ad2bdc8ecc057115af97d19610ffacc2b4e99fae6737bb82f5d7fb13d2f2c186"
            }
        }
    },
    "nbformat": 4,
    "nbformat_minor": 2
}
